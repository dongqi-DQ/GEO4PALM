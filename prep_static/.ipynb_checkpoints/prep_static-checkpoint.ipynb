{
 "cells": [
  {
   "cell_type": "code",
   "execution_count": 36,
   "id": "ec458e44-46a8-4767-8577-44035ba4b0bd",
   "metadata": {},
   "outputs": [],
   "source": [
    "import rioxarray as rxr\n",
    "from rasterio.crs import CRS\n",
    "import rasterio"
   ]
  },
  {
   "cell_type": "code",
   "execution_count": 37,
   "id": "fa3b7434-bc2c-4095-9bab-911c992c9dd6",
   "metadata": {},
   "outputs": [],
   "source": [
    "# crs_wgs84 = CRS.from_string(\"EPSG:4326\")\n",
    "crs_output = CRS.from_epsg(2193)"
   ]
  },
  {
   "cell_type": "code",
   "execution_count": 68,
   "id": "45c1e4de-dae9-493b-acfe-8418015cdb67",
   "metadata": {},
   "outputs": [],
   "source": [
    "tif_inpath = \"./tiff/\"\n",
    "tif_infile = \"pavement_fill_test.tif\"\n",
    "tif_outpath = \"./processed/\"\n",
    "prefix = \"chch_pavement\"\n",
    "ds_org = rxr.open_rasterio(tif_inpath + tif_infile)"
   ]
  },
  {
   "cell_type": "code",
   "execution_count": 39,
   "id": "70b54c2a-c772-4e50-b9e6-e63d1c927862",
   "metadata": {},
   "outputs": [],
   "source": [
    "with rasterio.open(tif_inpath+tif_infile) as src:\n",
    "    tif_crs = src.crs"
   ]
  },
  {
   "cell_type": "code",
   "execution_count": 40,
   "id": "4659ea90",
   "metadata": {},
   "outputs": [],
   "source": [
    "empty_file_list = [\"bldh_\", \"bldid_\", \"tree_\", \"road_\", \"street_\"]"
   ]
  },
  {
   "cell_type": "code",
   "execution_count": 41,
   "id": "a2d111de-4b40-4b8c-9156-20180d38ebbc",
   "metadata": {},
   "outputs": [
    {
     "name": "stdout",
     "output_type": "stream",
     "text": [
      "CPU times: user 2.73 s, sys: 1.74 s, total: 4.46 s\n",
      "Wall time: 4.48 s\n"
     ]
    }
   ],
   "source": [
    "%%time\n",
    "resolution_list = [100]\n",
    "# identify whether reprojection is needed\n",
    "if tif_crs==crs_output:\n",
    "    ds_org_tmp = ds_org\n",
    "else:\n",
    "    ds_org_tmp = ds_org.rio.reproject(crs_output)\n",
    "for res in resolution_list:\n",
    "    tif_outfile_name = str(res) + \"m_\"+str(crs_output).replace(':','_')+\".tif\"\n",
    "#     wgs_file_name = str(res) + \"m_wgs.tif\"\n",
    "    ds_org_out = ds_org_tmp.rio.reproject(crs_output, res)\n",
    "#     ds_org_tmp_wgs = ds_org_tmp_lc.rio.reproject(crs_wgs84)\n",
    "    #     ds_org=ds_org.reindex(y=ds_org.y[::-1])\n",
    "    ds_org_out.rio.to_raster(tif_outpath + prefix+\"_\" + tif_outfile_name)\n",
    "#     ds_org_tmp_wgs.rio.to_raster(dem_path + \"dem_\" + wgs_file_name)"
   ]
  },
  {
   "cell_type": "code",
   "execution_count": 42,
   "id": "6f48b248-a64e-48cb-8d91-2c2e1c587089",
   "metadata": {},
   "outputs": [],
   "source": [
    "# prep one empty file\n",
    "# any empty file should work for most of the cases\n",
    "import numpy as np\n",
    "empty_tmp_out =  ds_org_out.where( ds_org_out.isnull(), np.nan)\n",
    "empty_tmp_out.rio.to_raster(tif_outpath + \"empty.tif\")"
   ]
  },
  {
   "cell_type": "markdown",
   "id": "34a87887-b903-4f5f-af59-2da4ba959b11",
   "metadata": {},
   "source": [
    "### convert pavement tiff dtype"
   ]
  },
  {
   "cell_type": "code",
   "execution_count": 153,
   "id": "fe7c0970-8bea-4688-835e-27ef39f7cfc6",
   "metadata": {},
   "outputs": [],
   "source": [
    "tif_inpath = \"./tiff/\"\n",
    "tif_infile = \"chch_pavement_1m.tif\"\n",
    "ds_org = rxr.open_rasterio(tif_inpath + tif_infile)"
   ]
  },
  {
   "cell_type": "code",
   "execution_count": 155,
   "id": "b9609e45-df15-48bd-94e5-1eb054d89f5a",
   "metadata": {},
   "outputs": [],
   "source": [
    "ds_org = ds_org.astype(np.int32)"
   ]
  },
  {
   "cell_type": "code",
   "execution_count": 156,
   "id": "3c35bc16-0819-425e-8df5-9b8a4f37733f",
   "metadata": {},
   "outputs": [],
   "source": [
    "ds_org[0,:,:].data[ds_org[0,:,:].data==15] = 0\n"
   ]
  },
  {
   "cell_type": "code",
   "execution_count": 157,
   "id": "4de0b9e1-9e02-4fba-9521-14371daf43b1",
   "metadata": {},
   "outputs": [],
   "source": [
    "ds_org.attrs[\"_FillValue\"] = 0"
   ]
  },
  {
   "cell_type": "code",
   "execution_count": 159,
   "id": "40fc992f-6373-4939-883e-95cb2a2d5886",
   "metadata": {
    "tags": []
   },
   "outputs": [
    {
     "data": {
      "text/html": [
       "<div><svg style=\"position: absolute; width: 0; height: 0; overflow: hidden\">\n",
       "<defs>\n",
       "<symbol id=\"icon-database\" viewBox=\"0 0 32 32\">\n",
       "<path d=\"M16 0c-8.837 0-16 2.239-16 5v4c0 2.761 7.163 5 16 5s16-2.239 16-5v-4c0-2.761-7.163-5-16-5z\"></path>\n",
       "<path d=\"M16 17c-8.837 0-16-2.239-16-5v6c0 2.761 7.163 5 16 5s16-2.239 16-5v-6c0 2.761-7.163 5-16 5z\"></path>\n",
       "<path d=\"M16 26c-8.837 0-16-2.239-16-5v6c0 2.761 7.163 5 16 5s16-2.239 16-5v-6c0 2.761-7.163 5-16 5z\"></path>\n",
       "</symbol>\n",
       "<symbol id=\"icon-file-text2\" viewBox=\"0 0 32 32\">\n",
       "<path d=\"M28.681 7.159c-0.694-0.947-1.662-2.053-2.724-3.116s-2.169-2.030-3.116-2.724c-1.612-1.182-2.393-1.319-2.841-1.319h-15.5c-1.378 0-2.5 1.121-2.5 2.5v27c0 1.378 1.122 2.5 2.5 2.5h23c1.378 0 2.5-1.122 2.5-2.5v-19.5c0-0.448-0.137-1.23-1.319-2.841zM24.543 5.457c0.959 0.959 1.712 1.825 2.268 2.543h-4.811v-4.811c0.718 0.556 1.584 1.309 2.543 2.268zM28 29.5c0 0.271-0.229 0.5-0.5 0.5h-23c-0.271 0-0.5-0.229-0.5-0.5v-27c0-0.271 0.229-0.5 0.5-0.5 0 0 15.499-0 15.5 0v7c0 0.552 0.448 1 1 1h7v19.5z\"></path>\n",
       "<path d=\"M23 26h-14c-0.552 0-1-0.448-1-1s0.448-1 1-1h14c0.552 0 1 0.448 1 1s-0.448 1-1 1z\"></path>\n",
       "<path d=\"M23 22h-14c-0.552 0-1-0.448-1-1s0.448-1 1-1h14c0.552 0 1 0.448 1 1s-0.448 1-1 1z\"></path>\n",
       "<path d=\"M23 18h-14c-0.552 0-1-0.448-1-1s0.448-1 1-1h14c0.552 0 1 0.448 1 1s-0.448 1-1 1z\"></path>\n",
       "</symbol>\n",
       "</defs>\n",
       "</svg>\n",
       "<style>/* CSS stylesheet for displaying xarray objects in jupyterlab.\n",
       " *\n",
       " */\n",
       "\n",
       ":root {\n",
       "  --xr-font-color0: var(--jp-content-font-color0, rgba(0, 0, 0, 1));\n",
       "  --xr-font-color2: var(--jp-content-font-color2, rgba(0, 0, 0, 0.54));\n",
       "  --xr-font-color3: var(--jp-content-font-color3, rgba(0, 0, 0, 0.38));\n",
       "  --xr-border-color: var(--jp-border-color2, #e0e0e0);\n",
       "  --xr-disabled-color: var(--jp-layout-color3, #bdbdbd);\n",
       "  --xr-background-color: var(--jp-layout-color0, white);\n",
       "  --xr-background-color-row-even: var(--jp-layout-color1, white);\n",
       "  --xr-background-color-row-odd: var(--jp-layout-color2, #eeeeee);\n",
       "}\n",
       "\n",
       "html[theme=dark],\n",
       "body.vscode-dark {\n",
       "  --xr-font-color0: rgba(255, 255, 255, 1);\n",
       "  --xr-font-color2: rgba(255, 255, 255, 0.54);\n",
       "  --xr-font-color3: rgba(255, 255, 255, 0.38);\n",
       "  --xr-border-color: #1F1F1F;\n",
       "  --xr-disabled-color: #515151;\n",
       "  --xr-background-color: #111111;\n",
       "  --xr-background-color-row-even: #111111;\n",
       "  --xr-background-color-row-odd: #313131;\n",
       "}\n",
       "\n",
       ".xr-wrap {\n",
       "  display: block;\n",
       "  min-width: 300px;\n",
       "  max-width: 700px;\n",
       "}\n",
       "\n",
       ".xr-text-repr-fallback {\n",
       "  /* fallback to plain text repr when CSS is not injected (untrusted notebook) */\n",
       "  display: none;\n",
       "}\n",
       "\n",
       ".xr-header {\n",
       "  padding-top: 6px;\n",
       "  padding-bottom: 6px;\n",
       "  margin-bottom: 4px;\n",
       "  border-bottom: solid 1px var(--xr-border-color);\n",
       "}\n",
       "\n",
       ".xr-header > div,\n",
       ".xr-header > ul {\n",
       "  display: inline;\n",
       "  margin-top: 0;\n",
       "  margin-bottom: 0;\n",
       "}\n",
       "\n",
       ".xr-obj-type,\n",
       ".xr-array-name {\n",
       "  margin-left: 2px;\n",
       "  margin-right: 10px;\n",
       "}\n",
       "\n",
       ".xr-obj-type {\n",
       "  color: var(--xr-font-color2);\n",
       "}\n",
       "\n",
       ".xr-sections {\n",
       "  padding-left: 0 !important;\n",
       "  display: grid;\n",
       "  grid-template-columns: 150px auto auto 1fr 20px 20px;\n",
       "}\n",
       "\n",
       ".xr-section-item {\n",
       "  display: contents;\n",
       "}\n",
       "\n",
       ".xr-section-item input {\n",
       "  display: none;\n",
       "}\n",
       "\n",
       ".xr-section-item input + label {\n",
       "  color: var(--xr-disabled-color);\n",
       "}\n",
       "\n",
       ".xr-section-item input:enabled + label {\n",
       "  cursor: pointer;\n",
       "  color: var(--xr-font-color2);\n",
       "}\n",
       "\n",
       ".xr-section-item input:enabled + label:hover {\n",
       "  color: var(--xr-font-color0);\n",
       "}\n",
       "\n",
       ".xr-section-summary {\n",
       "  grid-column: 1;\n",
       "  color: var(--xr-font-color2);\n",
       "  font-weight: 500;\n",
       "}\n",
       "\n",
       ".xr-section-summary > span {\n",
       "  display: inline-block;\n",
       "  padding-left: 0.5em;\n",
       "}\n",
       "\n",
       ".xr-section-summary-in:disabled + label {\n",
       "  color: var(--xr-font-color2);\n",
       "}\n",
       "\n",
       ".xr-section-summary-in + label:before {\n",
       "  display: inline-block;\n",
       "  content: '►';\n",
       "  font-size: 11px;\n",
       "  width: 15px;\n",
       "  text-align: center;\n",
       "}\n",
       "\n",
       ".xr-section-summary-in:disabled + label:before {\n",
       "  color: var(--xr-disabled-color);\n",
       "}\n",
       "\n",
       ".xr-section-summary-in:checked + label:before {\n",
       "  content: '▼';\n",
       "}\n",
       "\n",
       ".xr-section-summary-in:checked + label > span {\n",
       "  display: none;\n",
       "}\n",
       "\n",
       ".xr-section-summary,\n",
       ".xr-section-inline-details {\n",
       "  padding-top: 4px;\n",
       "  padding-bottom: 4px;\n",
       "}\n",
       "\n",
       ".xr-section-inline-details {\n",
       "  grid-column: 2 / -1;\n",
       "}\n",
       "\n",
       ".xr-section-details {\n",
       "  display: none;\n",
       "  grid-column: 1 / -1;\n",
       "  margin-bottom: 5px;\n",
       "}\n",
       "\n",
       ".xr-section-summary-in:checked ~ .xr-section-details {\n",
       "  display: contents;\n",
       "}\n",
       "\n",
       ".xr-array-wrap {\n",
       "  grid-column: 1 / -1;\n",
       "  display: grid;\n",
       "  grid-template-columns: 20px auto;\n",
       "}\n",
       "\n",
       ".xr-array-wrap > label {\n",
       "  grid-column: 1;\n",
       "  vertical-align: top;\n",
       "}\n",
       "\n",
       ".xr-preview {\n",
       "  color: var(--xr-font-color3);\n",
       "}\n",
       "\n",
       ".xr-array-preview,\n",
       ".xr-array-data {\n",
       "  padding: 0 5px !important;\n",
       "  grid-column: 2;\n",
       "}\n",
       "\n",
       ".xr-array-data,\n",
       ".xr-array-in:checked ~ .xr-array-preview {\n",
       "  display: none;\n",
       "}\n",
       "\n",
       ".xr-array-in:checked ~ .xr-array-data,\n",
       ".xr-array-preview {\n",
       "  display: inline-block;\n",
       "}\n",
       "\n",
       ".xr-dim-list {\n",
       "  display: inline-block !important;\n",
       "  list-style: none;\n",
       "  padding: 0 !important;\n",
       "  margin: 0;\n",
       "}\n",
       "\n",
       ".xr-dim-list li {\n",
       "  display: inline-block;\n",
       "  padding: 0;\n",
       "  margin: 0;\n",
       "}\n",
       "\n",
       ".xr-dim-list:before {\n",
       "  content: '(';\n",
       "}\n",
       "\n",
       ".xr-dim-list:after {\n",
       "  content: ')';\n",
       "}\n",
       "\n",
       ".xr-dim-list li:not(:last-child):after {\n",
       "  content: ',';\n",
       "  padding-right: 5px;\n",
       "}\n",
       "\n",
       ".xr-has-index {\n",
       "  font-weight: bold;\n",
       "}\n",
       "\n",
       ".xr-var-list,\n",
       ".xr-var-item {\n",
       "  display: contents;\n",
       "}\n",
       "\n",
       ".xr-var-item > div,\n",
       ".xr-var-item label,\n",
       ".xr-var-item > .xr-var-name span {\n",
       "  background-color: var(--xr-background-color-row-even);\n",
       "  margin-bottom: 0;\n",
       "}\n",
       "\n",
       ".xr-var-item > .xr-var-name:hover span {\n",
       "  padding-right: 5px;\n",
       "}\n",
       "\n",
       ".xr-var-list > li:nth-child(odd) > div,\n",
       ".xr-var-list > li:nth-child(odd) > label,\n",
       ".xr-var-list > li:nth-child(odd) > .xr-var-name span {\n",
       "  background-color: var(--xr-background-color-row-odd);\n",
       "}\n",
       "\n",
       ".xr-var-name {\n",
       "  grid-column: 1;\n",
       "}\n",
       "\n",
       ".xr-var-dims {\n",
       "  grid-column: 2;\n",
       "}\n",
       "\n",
       ".xr-var-dtype {\n",
       "  grid-column: 3;\n",
       "  text-align: right;\n",
       "  color: var(--xr-font-color2);\n",
       "}\n",
       "\n",
       ".xr-var-preview {\n",
       "  grid-column: 4;\n",
       "}\n",
       "\n",
       ".xr-var-name,\n",
       ".xr-var-dims,\n",
       ".xr-var-dtype,\n",
       ".xr-preview,\n",
       ".xr-attrs dt {\n",
       "  white-space: nowrap;\n",
       "  overflow: hidden;\n",
       "  text-overflow: ellipsis;\n",
       "  padding-right: 10px;\n",
       "}\n",
       "\n",
       ".xr-var-name:hover,\n",
       ".xr-var-dims:hover,\n",
       ".xr-var-dtype:hover,\n",
       ".xr-attrs dt:hover {\n",
       "  overflow: visible;\n",
       "  width: auto;\n",
       "  z-index: 1;\n",
       "}\n",
       "\n",
       ".xr-var-attrs,\n",
       ".xr-var-data {\n",
       "  display: none;\n",
       "  background-color: var(--xr-background-color) !important;\n",
       "  padding-bottom: 5px !important;\n",
       "}\n",
       "\n",
       ".xr-var-attrs-in:checked ~ .xr-var-attrs,\n",
       ".xr-var-data-in:checked ~ .xr-var-data {\n",
       "  display: block;\n",
       "}\n",
       "\n",
       ".xr-var-data > table {\n",
       "  float: right;\n",
       "}\n",
       "\n",
       ".xr-var-name span,\n",
       ".xr-var-data,\n",
       ".xr-attrs {\n",
       "  padding-left: 25px !important;\n",
       "}\n",
       "\n",
       ".xr-attrs,\n",
       ".xr-var-attrs,\n",
       ".xr-var-data {\n",
       "  grid-column: 1 / -1;\n",
       "}\n",
       "\n",
       "dl.xr-attrs {\n",
       "  padding: 0;\n",
       "  margin: 0;\n",
       "  display: grid;\n",
       "  grid-template-columns: 125px auto;\n",
       "}\n",
       "\n",
       ".xr-attrs dt,\n",
       ".xr-attrs dd {\n",
       "  padding: 0;\n",
       "  margin: 0;\n",
       "  float: left;\n",
       "  padding-right: 10px;\n",
       "  width: auto;\n",
       "}\n",
       "\n",
       ".xr-attrs dt {\n",
       "  font-weight: normal;\n",
       "  grid-column: 1;\n",
       "}\n",
       "\n",
       ".xr-attrs dt:hover span {\n",
       "  display: inline-block;\n",
       "  background: var(--xr-background-color);\n",
       "  padding-right: 10px;\n",
       "}\n",
       "\n",
       ".xr-attrs dd {\n",
       "  grid-column: 2;\n",
       "  white-space: pre-wrap;\n",
       "  word-break: break-all;\n",
       "}\n",
       "\n",
       ".xr-icon-database,\n",
       ".xr-icon-file-text2 {\n",
       "  display: inline-block;\n",
       "  vertical-align: middle;\n",
       "  width: 1em;\n",
       "  height: 1.5em !important;\n",
       "  stroke-width: 0;\n",
       "  stroke: currentColor;\n",
       "  fill: currentColor;\n",
       "}\n",
       "</style><pre class='xr-text-repr-fallback'>&lt;xarray.DataArray ()&gt;\n",
       "array(10, dtype=int32)\n",
       "Coordinates:\n",
       "    spatial_ref  int64 0</pre><div class='xr-wrap' hidden><div class='xr-header'><div class='xr-obj-type'>xarray.DataArray</div><div class='xr-array-name'></div></div><ul class='xr-sections'><li class='xr-section-item'><div class='xr-array-wrap'><input id='section-5c30e93d-936a-4921-9961-75e55bef98f4' class='xr-array-in' type='checkbox' checked><label for='section-5c30e93d-936a-4921-9961-75e55bef98f4' title='Show/hide data repr'><svg class='icon xr-icon-database'><use xlink:href='#icon-database'></use></svg></label><div class='xr-array-preview xr-preview'><span>10</span></div><div class='xr-array-data'><pre>array(10, dtype=int32)</pre></div></div></li><li class='xr-section-item'><input id='section-f384bd68-b56b-4561-9e2e-7277bea6dd9d' class='xr-section-summary-in' type='checkbox'  checked><label for='section-f384bd68-b56b-4561-9e2e-7277bea6dd9d' class='xr-section-summary' >Coordinates: <span>(1)</span></label><div class='xr-section-inline-details'></div><div class='xr-section-details'><ul class='xr-var-list'><li class='xr-var-item'><div class='xr-var-name'><span>spatial_ref</span></div><div class='xr-var-dims'>()</div><div class='xr-var-dtype'>int64</div><div class='xr-var-preview xr-preview'>0</div><input id='attrs-4b8138fd-787a-4cf2-ab43-0ac4d4ba3e95' class='xr-var-attrs-in' type='checkbox' ><label for='attrs-4b8138fd-787a-4cf2-ab43-0ac4d4ba3e95' title='Show/Hide attributes'><svg class='icon xr-icon-file-text2'><use xlink:href='#icon-file-text2'></use></svg></label><input id='data-ae96cb1c-cf08-4860-a3d5-8e021f113e0f' class='xr-var-data-in' type='checkbox'><label for='data-ae96cb1c-cf08-4860-a3d5-8e021f113e0f' title='Show/Hide data repr'><svg class='icon xr-icon-database'><use xlink:href='#icon-database'></use></svg></label><div class='xr-var-attrs'><dl class='xr-attrs'><dt><span>crs_wkt :</span></dt><dd>PROJCS[&quot;NZGD2000 / New Zealand Transverse Mercator 2000&quot;,GEOGCS[&quot;NZGD2000&quot;,DATUM[&quot;New_Zealand_Geodetic_Datum_2000&quot;,SPHEROID[&quot;GRS 1980&quot;,6378137,298.257222101,AUTHORITY[&quot;EPSG&quot;,&quot;7019&quot;]],AUTHORITY[&quot;EPSG&quot;,&quot;6167&quot;]],PRIMEM[&quot;Greenwich&quot;,0,AUTHORITY[&quot;EPSG&quot;,&quot;8901&quot;]],UNIT[&quot;degree&quot;,0.0174532925199433,AUTHORITY[&quot;EPSG&quot;,&quot;9122&quot;]],AUTHORITY[&quot;EPSG&quot;,&quot;4167&quot;]],PROJECTION[&quot;Transverse_Mercator&quot;],PARAMETER[&quot;latitude_of_origin&quot;,0],PARAMETER[&quot;central_meridian&quot;,173],PARAMETER[&quot;scale_factor&quot;,0.9996],PARAMETER[&quot;false_easting&quot;,1600000],PARAMETER[&quot;false_northing&quot;,10000000],UNIT[&quot;metre&quot;,1,AUTHORITY[&quot;EPSG&quot;,&quot;9001&quot;]],AXIS[&quot;Northing&quot;,NORTH],AXIS[&quot;Easting&quot;,EAST],AUTHORITY[&quot;EPSG&quot;,&quot;2193&quot;]]</dd><dt><span>semi_major_axis :</span></dt><dd>6378137.0</dd><dt><span>semi_minor_axis :</span></dt><dd>6356752.314140356</dd><dt><span>inverse_flattening :</span></dt><dd>298.257222101</dd><dt><span>reference_ellipsoid_name :</span></dt><dd>GRS 1980</dd><dt><span>longitude_of_prime_meridian :</span></dt><dd>0.0</dd><dt><span>prime_meridian_name :</span></dt><dd>Greenwich</dd><dt><span>geographic_crs_name :</span></dt><dd>NZGD2000</dd><dt><span>horizontal_datum_name :</span></dt><dd>New Zealand Geodetic Datum 2000</dd><dt><span>projected_crs_name :</span></dt><dd>NZGD2000 / New Zealand Transverse Mercator 2000</dd><dt><span>grid_mapping_name :</span></dt><dd>transverse_mercator</dd><dt><span>latitude_of_projection_origin :</span></dt><dd>0.0</dd><dt><span>longitude_of_central_meridian :</span></dt><dd>173.0</dd><dt><span>false_easting :</span></dt><dd>1600000.0</dd><dt><span>false_northing :</span></dt><dd>10000000.0</dd><dt><span>scale_factor_at_central_meridian :</span></dt><dd>0.9996</dd><dt><span>spatial_ref :</span></dt><dd>PROJCS[&quot;NZGD2000 / New Zealand Transverse Mercator 2000&quot;,GEOGCS[&quot;NZGD2000&quot;,DATUM[&quot;New_Zealand_Geodetic_Datum_2000&quot;,SPHEROID[&quot;GRS 1980&quot;,6378137,298.257222101,AUTHORITY[&quot;EPSG&quot;,&quot;7019&quot;]],AUTHORITY[&quot;EPSG&quot;,&quot;6167&quot;]],PRIMEM[&quot;Greenwich&quot;,0,AUTHORITY[&quot;EPSG&quot;,&quot;8901&quot;]],UNIT[&quot;degree&quot;,0.0174532925199433,AUTHORITY[&quot;EPSG&quot;,&quot;9122&quot;]],AUTHORITY[&quot;EPSG&quot;,&quot;4167&quot;]],PROJECTION[&quot;Transverse_Mercator&quot;],PARAMETER[&quot;latitude_of_origin&quot;,0],PARAMETER[&quot;central_meridian&quot;,173],PARAMETER[&quot;scale_factor&quot;,0.9996],PARAMETER[&quot;false_easting&quot;,1600000],PARAMETER[&quot;false_northing&quot;,10000000],UNIT[&quot;metre&quot;,1,AUTHORITY[&quot;EPSG&quot;,&quot;9001&quot;]],AXIS[&quot;Northing&quot;,NORTH],AXIS[&quot;Easting&quot;,EAST],AUTHORITY[&quot;EPSG&quot;,&quot;2193&quot;]]</dd><dt><span>GeoTransform :</span></dt><dd>1522523.3771171302 1.0 0.0 5205117.410603152 0.0 -1.0</dd></dl></div><div class='xr-var-data'><pre>array(0)</pre></div></li></ul></div></li><li class='xr-section-item'><input id='section-6ca9e997-0a6e-443f-9034-4c71345d5514' class='xr-section-summary-in' type='checkbox' disabled ><label for='section-6ca9e997-0a6e-443f-9034-4c71345d5514' class='xr-section-summary'  title='Expand/collapse section'>Attributes: <span>(0)</span></label><div class='xr-section-inline-details'></div><div class='xr-section-details'><dl class='xr-attrs'></dl></div></li></ul></div></div>"
      ],
      "text/plain": [
       "<xarray.DataArray ()>\n",
       "array(10, dtype=int32)\n",
       "Coordinates:\n",
       "    spatial_ref  int64 0"
      ]
     },
     "execution_count": 159,
     "metadata": {},
     "output_type": "execute_result"
    }
   ],
   "source": [
    "ds_org"
   ]
  },
  {
   "cell_type": "code",
   "execution_count": null,
   "id": "04f45a4a-6da1-40f5-9bed-8ec09afd90f7",
   "metadata": {},
   "outputs": [],
   "source": [
    "ds_org.rio.to_raster(tif_inpath + 'chch_pavement_1m.tif')"
   ]
  },
  {
   "cell_type": "markdown",
   "id": "348f1c1d",
   "metadata": {},
   "source": [
    "### get dem tif"
   ]
  },
  {
   "cell_type": "code",
   "execution_count": 3,
   "id": "ea4f247a",
   "metadata": {},
   "outputs": [],
   "source": [
    "dem_path = \"/home/dli84/Documents/PALM/create_static_jiawei/\"\n",
    "dem_file = \"nz-south-island-25m.tif\"\n",
    "ds_org = rxr.open_rasterio(dem_path + dem_file, chunks=True)"
   ]
  },
  {
   "cell_type": "code",
   "execution_count": 4,
   "id": "99586a94",
   "metadata": {},
   "outputs": [
    {
     "name": "stdout",
     "output_type": "stream",
     "text": [
      "CPU times: user 24 s, sys: 9.88 s, total: 33.9 s\n",
      "Wall time: 34 s\n"
     ]
    }
   ],
   "source": [
    "%%time\n",
    "resolution_list = [243]\n",
    "ds_org_lc = ds_org.rio.reproject(crs_local)\n",
    "for res in resolution_list:\n",
    "    lc_file_name = str(res) + \"m_lc.tif\"\n",
    "    wgs_file_name = str(res) + \"m_wgs.tif\"\n",
    "    ds_org_tmp_lc = ds_org_lc.rio.reproject(crs_local, res)\n",
    "    ds_org_tmp_wgs = ds_org_tmp_lc.rio.reproject(crs_wgs84)\n",
    "    #     ds_org=ds_org.reindex(y=ds_org.y[::-1])\n",
    "    ds_org_tmp_lc.rio.to_raster(dem_path + \"dem_\" + lc_file_name)\n",
    "    ds_org_tmp_wgs.rio.to_raster(dem_path + \"dem_\" + wgs_file_name)"
   ]
  },
  {
   "cell_type": "markdown",
   "id": "daaf9c8d",
   "metadata": {},
   "source": [
    "### get landcover using reprojectmatch"
   ]
  },
  {
   "cell_type": "code",
   "execution_count": 19,
   "id": "21d22074",
   "metadata": {},
   "outputs": [],
   "source": [
    "gdf = gpd.read_file(lcdb_file_dir + lcdb_file_name, crs=\"epsg:2193\")"
   ]
  },
  {
   "cell_type": "code",
   "execution_count": 20,
   "id": "9011bae2",
   "metadata": {},
   "outputs": [],
   "source": [
    "geo_grid = make_geocube(\n",
    "    vector_data=gdf,\n",
    "    measurements=[\"Class_2018\"],\n",
    "    resolution=(9, 9),\n",
    ")\n",
    "geo_grid = geo_grid[\"Class_2018\"]"
   ]
  },
  {
   "cell_type": "code",
   "execution_count": 21,
   "id": "a1eb3b90",
   "metadata": {},
   "outputs": [],
   "source": [
    "geo_grid = geo_grid.reindex(y=geo_grid.y[::-1])"
   ]
  },
  {
   "cell_type": "code",
   "execution_count": 22,
   "id": "08f9426b",
   "metadata": {},
   "outputs": [
    {
     "name": "stdout",
     "output_type": "stream",
     "text": [
      "CPU times: user 1min 2s, sys: 1min 10s, total: 2min 12s\n",
      "Wall time: 2min 13s\n"
     ]
    }
   ],
   "source": [
    "%%time\n",
    "resolution_list = [9, 27, 81, 243]\n",
    "for res in resolution_list:\n",
    "    lc_file_name = str(res) + \"m_lc.tif\"\n",
    "    wgs_file_name = str(res) + \"m_wgs.tif\"\n",
    "    dem_tmp_lc = rxr.open_rasterio(dem_file_dir + \"dem_\" + lc_file_name)\n",
    "    dem_tmp_wgs = rxr.open_rasterio(dem_file_dir + \"dem_\" + wgs_file_name)\n",
    "    geo_grid_tmp_lc = geo_grid.rio.reproject_match(dem_tmp_lc)\n",
    "    geo_grid_tmp_wgs = geo_grid.rio.reproject_match(dem_tmp_wgs)\n",
    "    geo_grid_tmp_lc.rio.to_raster(lcdb_file_dir + \"landcover_\" + lc_file_name)\n",
    "    geo_grid_tmp_wgs.rio.to_raster(lcdb_file_dir + \"landcover_\" + wgs_file_name)\n",
    "    for empty_file_name in empty_file_list:\n",
    "        empty_tmp_wgs = geo_grid_tmp_wgs.where(geo_grid_tmp_wgs.isnull(), np.nan)\n",
    "        empty_tmp_lc = geo_grid_tmp_lc.where(geo_grid_tmp_lc.isnull(), np.nan)\n",
    "        empty_tmp_wgs.rio.to_raster(lcdb_file_dir + empty_file_name + wgs_file_name)\n",
    "        empty_tmp_lc.rio.to_raster(lcdb_file_dir + empty_file_name + lc_file_name)"
   ]
  },
  {
   "cell_type": "markdown",
   "id": "eac2fcd4",
   "metadata": {},
   "source": [
    "### check the domain centre"
   ]
  },
  {
   "cell_type": "code",
   "execution_count": 3,
   "id": "5239ebaf",
   "metadata": {},
   "outputs": [],
   "source": [
    "import glob\n",
    "\n",
    "root_dem = sorted(glob.glob(dem_file_dir + \"*wgs.tif\"))[0]"
   ]
  },
  {
   "cell_type": "code",
   "execution_count": 4,
   "id": "ca78aeb6",
   "metadata": {},
   "outputs": [],
   "source": [
    "dem_wgs = rxr.open_rasterio(root_dem)"
   ]
  },
  {
   "cell_type": "code",
   "execution_count": 5,
   "id": "86894758",
   "metadata": {},
   "outputs": [],
   "source": [
    "map_test = geemap.Map(\n",
    "    center=(dem_wgs.y.mean().values.item(), dem_wgs.x.mean().values.item()),\n",
    "    zoom_start=10,\n",
    ")"
   ]
  },
  {
   "cell_type": "code",
   "execution_count": 6,
   "id": "4250969e",
   "metadata": {},
   "outputs": [],
   "source": [
    "map_test.add_raster(root_dem, colormap=\"terrain\", layer_name=\"Root_DEM\")"
   ]
  },
  {
   "cell_type": "code",
   "execution_count": 7,
   "id": "b2fbce2e",
   "metadata": {},
   "outputs": [
    {
     "data": {
      "application/vnd.jupyter.widget-view+json": {
       "model_id": "ccd9c303eae54c5799dc3a00f07a4a8a",
       "version_major": 2,
       "version_minor": 0
      },
      "text/plain": [
       "Map(center=[-44.15360732688096, 169.99103499335084], controls=(WidgetControl(options=['position', 'transparent…"
      ]
     },
     "metadata": {},
     "output_type": "display_data"
    }
   ],
   "source": [
    "map_test"
   ]
  },
  {
   "cell_type": "markdown",
   "id": "93d883f7",
   "metadata": {},
   "source": [
    "## static file generation processing "
   ]
  },
  {
   "cell_type": "markdown",
   "id": "902434e7",
   "metadata": {},
   "source": [
    "### get static file for pcr and main run root flat domain"
   ]
  },
  {
   "cell_type": "code",
   "execution_count": 4,
   "id": "b98a7dfb",
   "metadata": {},
   "outputs": [],
   "source": [
    "import numpy as np\n",
    "import xarray as xr\n",
    "\n",
    "\n",
    "def tif_to_flat(\n",
    "    file_loc, soil_type=3, vegetation_type=3, pavement_type=np.nan, water_type=np.nan\n",
    "):\n",
    "    # only deals with no buildings, for urban, you need to remove the buildings/streets first\n",
    "    ds = xr.open_dataset(file_loc)\n",
    "    zero_var_list = [\"zt\", \"lad\"]\n",
    "    other_var_dict = {\n",
    "        \"soil_type\": soil_type,\n",
    "        \"vegetation_type\": vegetation_type,\n",
    "        \"pavement_type\": pavement_type,\n",
    "        \"water_type\": water_type,\n",
    "    }\n",
    "\n",
    "    for var_name in zero_var_list:\n",
    "        ds[var_name][:] = 0\n",
    "    for var_key in other_var_dict:\n",
    "        ds[var_key][:] = other_var_dict[var_key]\n",
    "\n",
    "    if ~np.isnan(vegetation_type):\n",
    "        ds[\"surface_fraction\"][0, :, :] = 1\n",
    "    else:\n",
    "        ds[\"surface_fraction\"][0, :, :] = 0\n",
    "    if ~np.isnan(pavement_type):\n",
    "        ds[\"surface_fraction\"][1, :, :] = 1\n",
    "    else:\n",
    "        ds[\"surface_fraction\"][1, :, :] = 0\n",
    "    if ~np.isnan(water_type):\n",
    "        ds[\"surface_fraction\"][2, :, :] = 1\n",
    "    else:\n",
    "        ds[\"surface_fraction\"][2, :, :] = 0\n",
    "    ds.to_netcdf(file_loc + \"_flat\")\n",
    "\n",
    "\n",
    "def get_pcr_static(file_loc, nx, ny):\n",
    "    # get pcr static file from\n",
    "    ds = xr.open_dataset(file_loc)\n",
    "    ds_pcr = ds.isel(x=range(0, nx), y=range(0, ny))\n",
    "    ds_pcr.to_netcdf(file_loc + \"_pcr\")"
   ]
  },
  {
   "cell_type": "code",
   "execution_count": 5,
   "id": "dbfb3dad",
   "metadata": {},
   "outputs": [],
   "source": [
    "tif_to_flat(\n",
    "    \"/home/UOCNT/jzh215/data_analysis/creat_static/PALM_static-working-correct/static_files/rocket_d01_243m_static\"\n",
    ")"
   ]
  },
  {
   "cell_type": "code",
   "execution_count": 5,
   "id": "0417d1b2",
   "metadata": {},
   "outputs": [],
   "source": [
    "get_pcr_static(\n",
    "    \"/home/UOCNT/jzh215/research/PALM_static-working/static_files/rocket_d01_243m_staticflat\",\n",
    "    nx=64,\n",
    "    ny=256,\n",
    ")"
   ]
  },
  {
   "cell_type": "markdown",
   "id": "056f00ca",
   "metadata": {},
   "source": [
    "## Old scripts"
   ]
  },
  {
   "cell_type": "markdown",
   "id": "8402a5dc",
   "metadata": {},
   "source": [
    "### get landcover tif"
   ]
  },
  {
   "cell_type": "code",
   "execution_count": 1,
   "id": "05ca2762",
   "metadata": {
    "tags": []
   },
   "outputs": [
    {
     "ename": "ModuleNotFoundError",
     "evalue": "No module named 'geocube'",
     "output_type": "error",
     "traceback": [
      "\u001b[0;31m---------------------------------------------------------------------------\u001b[0m",
      "\u001b[0;31mModuleNotFoundError\u001b[0m                       Traceback (most recent call last)",
      "\u001b[0;32m<ipython-input-1-d52784b3b8eb>\u001b[0m in \u001b[0;36m<module>\u001b[0;34m\u001b[0m\n\u001b[1;32m      1\u001b[0m \u001b[0;32mimport\u001b[0m \u001b[0mgeopandas\u001b[0m \u001b[0;32mas\u001b[0m \u001b[0mgpd\u001b[0m\u001b[0;34m\u001b[0m\u001b[0;34m\u001b[0m\u001b[0m\n\u001b[0;32m----> 2\u001b[0;31m \u001b[0;32mfrom\u001b[0m \u001b[0mgeocube\u001b[0m\u001b[0;34m.\u001b[0m\u001b[0mapi\u001b[0m\u001b[0;34m.\u001b[0m\u001b[0mcore\u001b[0m \u001b[0;32mimport\u001b[0m \u001b[0mmake_geocube\u001b[0m\u001b[0;34m\u001b[0m\u001b[0;34m\u001b[0m\u001b[0m\n\u001b[0m",
      "\u001b[0;31mModuleNotFoundError\u001b[0m: No module named 'geocube'"
     ]
    }
   ],
   "source": [
    "import geopandas as gpd\n",
    "from geocube.api.core import make_geocube"
   ]
  },
  {
   "cell_type": "code",
   "execution_count": 3,
   "id": "94b6a6bc",
   "metadata": {},
   "outputs": [],
   "source": [
    "lcdb_file_dir = \"/home/dli84/Documents/PALM/create_static_jiawei/lris-lcdb-v50-land-cover-database-version-50-mainland-new-zealand-SHP/\"\n",
    "lcdb_file_name = \"lcdb-v50-land-cover-database-version-50-mainland-new-zeal.shp\""
   ]
  },
  {
   "cell_type": "code",
   "execution_count": 4,
   "id": "cda6eef1",
   "metadata": {},
   "outputs": [],
   "source": [
    "gdf = gpd.read_file(lcdb_file_dir + lcdb_file_name, crs=\"epsg:2193\")"
   ]
  },
  {
   "cell_type": "code",
   "execution_count": 5,
   "id": "583d18bb",
   "metadata": {},
   "outputs": [],
   "source": [
    "geo_grid = make_geocube(\n",
    "    vector_data=gdf,\n",
    "    measurements=[\"Class_2018\"],\n",
    "    resolution=(9, 9),\n",
    ")"
   ]
  },
  {
   "cell_type": "code",
   "execution_count": 8,
   "id": "d443fec0",
   "metadata": {},
   "outputs": [
    {
     "name": "stdout",
     "output_type": "stream",
     "text": [
      "CPU times: user 28.2 s, sys: 12.4 s, total: 40.6 s\n",
      "Wall time: 46.1 s\n"
     ]
    }
   ],
   "source": [
    "%%time\n",
    "resolution_list = [243]\n",
    "geo_grid_lc = geo_grid.rio.reproject(crs_local)\n",
    "for res in resolution_list:\n",
    "    geo_grid_tmp_lc = geo_grid_lc.rio.reproject(crs_local, res)\n",
    "    geo_grid_tmp_wgs = geo_grid_tmp_lc.rio.reproject(crs_wgs84)\n",
    "    geo_grid_tmp_lc.rio.to_raster(lcdb_file_dir + str(res) + \"m_lc.tif\")\n",
    "    geo_grid_tmp_wgs.rio.to_raster(lcdb_file_dir + str(res) + \"m_wgs.tif\")"
   ]
  },
  {
   "cell_type": "markdown",
   "id": "f8bf8155",
   "metadata": {},
   "source": [
    "### dem for all domains"
   ]
  },
  {
   "cell_type": "code",
   "execution_count": 20,
   "id": "032b933a",
   "metadata": {},
   "outputs": [],
   "source": [
    "file_dir = \"/home/UOCNT/jzh215/research/lake_ohau/dem_8m/\"\n",
    "file_name = \"merged.tif\""
   ]
  },
  {
   "cell_type": "code",
   "execution_count": 21,
   "id": "8407ce27",
   "metadata": {},
   "outputs": [],
   "source": [
    "ds_org = rxr.open_rasterio(file_dir + \"merged.tif\")"
   ]
  },
  {
   "cell_type": "code",
   "execution_count": 22,
   "id": "1b40afda",
   "metadata": {},
   "outputs": [],
   "source": [
    "ds_loc_216m = ds_org.rio.reproject(crs_local, resolution=216)"
   ]
  },
  {
   "cell_type": "code",
   "execution_count": 23,
   "id": "0fe17fe2",
   "metadata": {},
   "outputs": [],
   "source": [
    "ds_wgs_216m = ds_loc_216m.rio.reproject(crs_wgs84)"
   ]
  },
  {
   "cell_type": "code",
   "execution_count": 24,
   "id": "73681a67",
   "metadata": {},
   "outputs": [],
   "source": [
    "lat_min = ds_wgs_216m.y.min().values.item()\n",
    "lat_max = ds_wgs_216m.y.max().values.item()\n",
    "lon_min = ds_wgs_216m.x.min().values.item()\n",
    "lon_max = ds_wgs_216m.x.max().values.item()\n",
    "lat_mid = ds_wgs_216m.y.mean().values.item()\n",
    "lon_mid = ds_wgs_216m.x.mean().values.item()"
   ]
  },
  {
   "cell_type": "code",
   "execution_count": 49,
   "id": "e6d0308d",
   "metadata": {},
   "outputs": [],
   "source": [
    "map_test = geemap.Map(center=(lat_mid, lon_mid), zoom_start=10)"
   ]
  },
  {
   "cell_type": "code",
   "execution_count": 39,
   "id": "f59bc844",
   "metadata": {},
   "outputs": [],
   "source": [
    "collection = ee.ImageCollection(\"COPERNICUS/Landcover/100m/Proba-V-C3/Global\")"
   ]
  },
  {
   "cell_type": "code",
   "execution_count": 40,
   "id": "726785c6",
   "metadata": {},
   "outputs": [],
   "source": [
    "image = collection.filterDate(\"2019-01-01\", \"2019-12-31\").first()"
   ]
  },
  {
   "cell_type": "code",
   "execution_count": 41,
   "id": "161c79ad",
   "metadata": {},
   "outputs": [],
   "source": [
    "map_test.add_ee_layer(image)"
   ]
  },
  {
   "cell_type": "code",
   "execution_count": 42,
   "id": "d69e8fcc",
   "metadata": {},
   "outputs": [],
   "source": [
    "geom = ee.Geometry.Rectangle([lon_min, lat_min, lon_max, lat_max])\n",
    "feature = ee.Feature(geom, {})"
   ]
  },
  {
   "cell_type": "code",
   "execution_count": 43,
   "id": "a29477ff",
   "metadata": {},
   "outputs": [],
   "source": [
    "roi = feature.geometry()\n",
    "image_crop = image.clip(roi).unmask()"
   ]
  },
  {
   "cell_type": "code",
   "execution_count": 45,
   "id": "be507371",
   "metadata": {},
   "outputs": [
    {
     "name": "stdout",
     "output_type": "stream",
     "text": [
      "Generating URL ...\n",
      "Downloading data from https://earthengine.googleapis.com/v1alpha/projects/earthengine-legacy/thumbnails/968d75188c7ae5cece7029b1c609aed4-c6e51bfee0309f5939d52d1d425ca69d:getPixels\n",
      "Please wait ...\n",
      "Data downloaded to /home/UOCNT/jzh215/research/lake_ohau/dem_8m\n"
     ]
    }
   ],
   "source": [
    "geemap.ee_export_image(\n",
    "    image_crop,\n",
    "    filename=file_dir + \"land_info.tif\",\n",
    "    region=roi,\n",
    "    crs=\"EPSG:4326\",\n",
    "    file_per_band=True,\n",
    ")"
   ]
  },
  {
   "cell_type": "code",
   "execution_count": 3,
   "id": "35192982",
   "metadata": {},
   "outputs": [],
   "source": [
    "ds_landinfo_org = rxr.open_rasterio(\n",
    "    file_dir + \"land_info.water-permanent-coverfraction.tif\"\n",
    ")"
   ]
  },
  {
   "cell_type": "code",
   "execution_count": 14,
   "id": "f6015459",
   "metadata": {},
   "outputs": [],
   "source": [
    "ds_landinfo_org_216m = ds_landinfo_org.rio.reproject_match(ds_wgs_216m)"
   ]
  },
  {
   "cell_type": "code",
   "execution_count": 15,
   "id": "30e740ce",
   "metadata": {},
   "outputs": [],
   "source": [
    "ds_landinfo_org_216m.rio.to_raster(\n",
    "    file_dir + \"land_info_water-permanent-coverfraction_216m.tif\"\n",
    ")"
   ]
  },
  {
   "cell_type": "code",
   "execution_count": 12,
   "id": "469d34e0",
   "metadata": {
    "tags": []
   },
   "outputs": [],
   "source": [
    "map_test.add_raster(\n",
    "    file_dir + \"land_info.water-permanent-coverfraction.tif\",\n",
    "    colormap=\"terrain\",\n",
    "    layer_name=\"test_DEM3\",\n",
    ")"
   ]
  },
  {
   "cell_type": "code",
   "execution_count": 14,
   "id": "61741069",
   "metadata": {},
   "outputs": [],
   "source": [
    "map_test.add_raster(\n",
    "    file_dir + \"wgs_merged.tif\", colormap=\"terrain\", layer_name=\"test_DEM3\"\n",
    ")"
   ]
  },
  {
   "cell_type": "code",
   "execution_count": 50,
   "id": "7b8b5f33",
   "metadata": {},
   "outputs": [],
   "source": [
    "map_test.add_raster(\n",
    "    lcdb_file_dir + \"243m_wgs.tif\", colormap=\"terrain\", layer_name=\"dem_test\"\n",
    ")"
   ]
  },
  {
   "cell_type": "code",
   "execution_count": 54,
   "id": "07acc149",
   "metadata": {},
   "outputs": [],
   "source": [
    "map_test.add_raster(\n",
    "    \"/home/UOCNT/jzh215/research/rocket_lab/dem_8m/243m_wgs.tif\",\n",
    "    colormap=\"terrain\",\n",
    "    layer_name=\"dem_actual\",\n",
    ")"
   ]
  },
  {
   "cell_type": "code",
   "execution_count": 60,
   "id": "ff2e6492",
   "metadata": {},
   "outputs": [],
   "source": [
    "map_test.add_raster(\n",
    "    \"/home/UOCNT/jzh215/research/rocket_lab/lcdb5/243m_wgs.tif\",\n",
    "    colormap=\"terrain\",\n",
    "    layer_name=\"lcdb\",\n",
    ")"
   ]
  },
  {
   "cell_type": "code",
   "execution_count": 51,
   "id": "3220564a",
   "metadata": {},
   "outputs": [],
   "source": [
    "map_test.add_raster(\"test_matched_lc.tif\", colormap=\"terrain\", layer_name=\"test_mached\")"
   ]
  },
  {
   "cell_type": "code",
   "execution_count": null,
   "id": "70d832fa",
   "metadata": {},
   "outputs": [],
   "source": [
    "map_test"
   ]
  }
 ],
 "metadata": {
  "kernelspec": {
   "display_name": "Python (baseline)",
   "language": "python",
   "name": "baseline"
  },
  "language_info": {
   "codemirror_mode": {
    "name": "ipython",
    "version": 3
   },
   "file_extension": ".py",
   "mimetype": "text/x-python",
   "name": "python",
   "nbconvert_exporter": "python",
   "pygments_lexer": "ipython3",
   "version": "3.8.10"
  }
 },
 "nbformat": 4,
 "nbformat_minor": 5
}
