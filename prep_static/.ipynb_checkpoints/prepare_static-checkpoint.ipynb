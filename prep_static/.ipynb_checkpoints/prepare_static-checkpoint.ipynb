{
 "cells": [
  {
   "cell_type": "code",
   "execution_count": 1,
   "id": "1818b9eb",
   "metadata": {},
   "outputs": [],
   "source": [
    "import ee\n",
    "import geemap\n",
    "import numpy as np\n",
    "import rioxarray as rxr\n",
    "from rasterio.crs import CRS\n",
    "\n",
    "ee.Initialize()\n",
    "crs_wgs84 = CRS.from_string(\"EPSG:4326\")\n",
    "crs_local = CRS.from_epsg(2193)\n",
    "import geopandas as gpd\n",
    "from geocube.api.core import make_geocube"
   ]
  },
  {
   "cell_type": "code",
   "execution_count": 2,
   "id": "4659ea90",
   "metadata": {},
   "outputs": [],
   "source": [
    "case_dir = \"/home/UOCNT/jzh215/research/rocket_lab/\"\n",
    "dem_file_dir = case_dir + \"dem_8m/\"\n",
    "dem_file_name = \"merged.tif\"\n",
    "lcdb_file_dir = case_dir + \"lcdb5/\"\n",
    "lcdb_file_name = \"lcdb-v50-land-cover-database-version-50-mainland-new-zealand.shp\"\n",
    "empty_file_list = [\"bldh_\", \"bldid_\", \"tree_\", \"road_\", \"street_\"]"
   ]
  },
  {
   "cell_type": "markdown",
   "id": "348f1c1d",
   "metadata": {},
   "source": [
    "### get dem tif"
   ]
  },
  {
   "cell_type": "code",
   "execution_count": 3,
   "id": "ea4f247a",
   "metadata": {},
   "outputs": [],
   "source": [
    "dem_path = \"/home/dli84/Documents/PALM/create_static_jiawei/\"\n",
    "dem_file = \"nz-south-island-25m.tif\"\n",
    "ds_org = rxr.open_rasterio(dem_path + dem_file, chunks=True)"
   ]
  },
  {
   "cell_type": "code",
   "execution_count": 4,
   "id": "99586a94",
   "metadata": {},
   "outputs": [
    {
     "name": "stdout",
     "output_type": "stream",
     "text": [
      "CPU times: user 24 s, sys: 9.88 s, total: 33.9 s\n",
      "Wall time: 34 s\n"
     ]
    }
   ],
   "source": [
    "%%time\n",
    "resolution_list = [243]\n",
    "ds_org_lc = ds_org.rio.reproject(crs_local)\n",
    "for res in resolution_list:\n",
    "    lc_file_name = str(res) + \"m_lc.tif\"\n",
    "    wgs_file_name = str(res) + \"m_wgs.tif\"\n",
    "    ds_org_tmp_lc = ds_org_lc.rio.reproject(crs_local, res)\n",
    "    ds_org_tmp_wgs = ds_org_tmp_lc.rio.reproject(crs_wgs84)\n",
    "    #     ds_org=ds_org.reindex(y=ds_org.y[::-1])\n",
    "    ds_org_tmp_lc.rio.to_raster(dem_path + \"dem_\" + lc_file_name)\n",
    "    ds_org_tmp_wgs.rio.to_raster(dem_path + \"dem_\" + wgs_file_name)"
   ]
  },
  {
   "cell_type": "markdown",
   "id": "daaf9c8d",
   "metadata": {},
   "source": [
    "### get landcover using reprojectmatch"
   ]
  },
  {
   "cell_type": "code",
   "execution_count": 19,
   "id": "21d22074",
   "metadata": {},
   "outputs": [],
   "source": [
    "gdf = gpd.read_file(lcdb_file_dir + lcdb_file_name, crs=\"epsg:2193\")"
   ]
  },
  {
   "cell_type": "code",
   "execution_count": 20,
   "id": "9011bae2",
   "metadata": {},
   "outputs": [],
   "source": [
    "geo_grid = make_geocube(\n",
    "    vector_data=gdf,\n",
    "    measurements=[\"Class_2018\"],\n",
    "    resolution=(9, 9),\n",
    ")\n",
    "geo_grid = geo_grid[\"Class_2018\"]"
   ]
  },
  {
   "cell_type": "code",
   "execution_count": 21,
   "id": "a1eb3b90",
   "metadata": {},
   "outputs": [],
   "source": [
    "geo_grid = geo_grid.reindex(y=geo_grid.y[::-1])"
   ]
  },
  {
   "cell_type": "code",
   "execution_count": 22,
   "id": "08f9426b",
   "metadata": {},
   "outputs": [
    {
     "name": "stdout",
     "output_type": "stream",
     "text": [
      "CPU times: user 1min 2s, sys: 1min 10s, total: 2min 12s\n",
      "Wall time: 2min 13s\n"
     ]
    }
   ],
   "source": [
    "%%time\n",
    "resolution_list = [9, 27, 81, 243]\n",
    "for res in resolution_list:\n",
    "    lc_file_name = str(res) + \"m_lc.tif\"\n",
    "    wgs_file_name = str(res) + \"m_wgs.tif\"\n",
    "    dem_tmp_lc = rxr.open_rasterio(dem_file_dir + \"dem_\" + lc_file_name)\n",
    "    dem_tmp_wgs = rxr.open_rasterio(dem_file_dir + \"dem_\" + wgs_file_name)\n",
    "    geo_grid_tmp_lc = geo_grid.rio.reproject_match(dem_tmp_lc)\n",
    "    geo_grid_tmp_wgs = geo_grid.rio.reproject_match(dem_tmp_wgs)\n",
    "    geo_grid_tmp_lc.rio.to_raster(lcdb_file_dir + \"landcover_\" + lc_file_name)\n",
    "    geo_grid_tmp_wgs.rio.to_raster(lcdb_file_dir + \"landcover_\" + wgs_file_name)\n",
    "    for empty_file_name in empty_file_list:\n",
    "        empty_tmp_wgs = geo_grid_tmp_wgs.where(geo_grid_tmp_wgs.isnull(), np.nan)\n",
    "        empty_tmp_lc = geo_grid_tmp_lc.where(geo_grid_tmp_lc.isnull(), np.nan)\n",
    "        empty_tmp_wgs.rio.to_raster(lcdb_file_dir + empty_file_name + wgs_file_name)\n",
    "        empty_tmp_lc.rio.to_raster(lcdb_file_dir + empty_file_name + lc_file_name)"
   ]
  },
  {
   "cell_type": "markdown",
   "id": "eac2fcd4",
   "metadata": {},
   "source": [
    "### check the domain centre"
   ]
  },
  {
   "cell_type": "code",
   "execution_count": 3,
   "id": "5239ebaf",
   "metadata": {},
   "outputs": [],
   "source": [
    "import glob\n",
    "\n",
    "root_dem = sorted(glob.glob(dem_file_dir + \"*wgs.tif\"))[0]"
   ]
  },
  {
   "cell_type": "code",
   "execution_count": 4,
   "id": "ca78aeb6",
   "metadata": {},
   "outputs": [],
   "source": [
    "dem_wgs = rxr.open_rasterio(root_dem)"
   ]
  },
  {
   "cell_type": "code",
   "execution_count": 5,
   "id": "86894758",
   "metadata": {},
   "outputs": [],
   "source": [
    "map_test = geemap.Map(\n",
    "    center=(dem_wgs.y.mean().values.item(), dem_wgs.x.mean().values.item()),\n",
    "    zoom_start=10,\n",
    ")"
   ]
  },
  {
   "cell_type": "code",
   "execution_count": 6,
   "id": "4250969e",
   "metadata": {},
   "outputs": [],
   "source": [
    "map_test.add_raster(root_dem, colormap=\"terrain\", layer_name=\"Root_DEM\")"
   ]
  },
  {
   "cell_type": "code",
   "execution_count": 7,
   "id": "b2fbce2e",
   "metadata": {},
   "outputs": [
    {
     "data": {
      "application/vnd.jupyter.widget-view+json": {
       "model_id": "ccd9c303eae54c5799dc3a00f07a4a8a",
       "version_major": 2,
       "version_minor": 0
      },
      "text/plain": [
       "Map(center=[-44.15360732688096, 169.99103499335084], controls=(WidgetControl(options=['position', 'transparent…"
      ]
     },
     "metadata": {},
     "output_type": "display_data"
    }
   ],
   "source": [
    "map_test"
   ]
  },
  {
   "cell_type": "markdown",
   "id": "93d883f7",
   "metadata": {},
   "source": [
    "## static file generation processing "
   ]
  },
  {
   "cell_type": "markdown",
   "id": "902434e7",
   "metadata": {},
   "source": [
    "### get static file for pcr and main run root flat domain"
   ]
  },
  {
   "cell_type": "code",
   "execution_count": 4,
   "id": "b98a7dfb",
   "metadata": {},
   "outputs": [],
   "source": [
    "import numpy as np\n",
    "import xarray as xr\n",
    "\n",
    "\n",
    "def tif_to_flat(\n",
    "    file_loc, soil_type=3, vegetation_type=3, pavement_type=np.nan, water_type=np.nan\n",
    "):\n",
    "    # only deals with no buildings, for urban, you need to remove the buildings/streets first\n",
    "    ds = xr.open_dataset(file_loc)\n",
    "    zero_var_list = [\"zt\", \"lad\"]\n",
    "    other_var_dict = {\n",
    "        \"soil_type\": soil_type,\n",
    "        \"vegetation_type\": vegetation_type,\n",
    "        \"pavement_type\": pavement_type,\n",
    "        \"water_type\": water_type,\n",
    "    }\n",
    "\n",
    "    for var_name in zero_var_list:\n",
    "        ds[var_name][:] = 0\n",
    "    for var_key in other_var_dict:\n",
    "        ds[var_key][:] = other_var_dict[var_key]\n",
    "\n",
    "    if ~np.isnan(vegetation_type):\n",
    "        ds[\"surface_fraction\"][0, :, :] = 1\n",
    "    else:\n",
    "        ds[\"surface_fraction\"][0, :, :] = 0\n",
    "    if ~np.isnan(pavement_type):\n",
    "        ds[\"surface_fraction\"][1, :, :] = 1\n",
    "    else:\n",
    "        ds[\"surface_fraction\"][1, :, :] = 0\n",
    "    if ~np.isnan(water_type):\n",
    "        ds[\"surface_fraction\"][2, :, :] = 1\n",
    "    else:\n",
    "        ds[\"surface_fraction\"][2, :, :] = 0\n",
    "    ds.to_netcdf(file_loc + \"_flat\")\n",
    "\n",
    "\n",
    "def get_pcr_static(file_loc, nx, ny):\n",
    "    # get pcr static file from\n",
    "    ds = xr.open_dataset(file_loc)\n",
    "    ds_pcr = ds.isel(x=range(0, nx), y=range(0, ny))\n",
    "    ds_pcr.to_netcdf(file_loc + \"_pcr\")"
   ]
  },
  {
   "cell_type": "code",
   "execution_count": 5,
   "id": "dbfb3dad",
   "metadata": {},
   "outputs": [],
   "source": [
    "tif_to_flat(\n",
    "    \"/home/UOCNT/jzh215/data_analysis/creat_static/PALM_static-working-correct/static_files/rocket_d01_243m_static\"\n",
    ")"
   ]
  },
  {
   "cell_type": "code",
   "execution_count": 5,
   "id": "0417d1b2",
   "metadata": {},
   "outputs": [],
   "source": [
    "get_pcr_static(\n",
    "    \"/home/UOCNT/jzh215/research/PALM_static-working/static_files/rocket_d01_243m_staticflat\",\n",
    "    nx=64,\n",
    "    ny=256,\n",
    ")"
   ]
  },
  {
   "cell_type": "markdown",
   "id": "056f00ca",
   "metadata": {},
   "source": [
    "## Old scripts"
   ]
  },
  {
   "cell_type": "markdown",
   "id": "8402a5dc",
   "metadata": {},
   "source": [
    "### get landcover tif"
   ]
  },
  {
   "cell_type": "code",
   "execution_count": 2,
   "id": "05ca2762",
   "metadata": {},
   "outputs": [],
   "source": [
    "import geopandas as gpd\n",
    "from geocube.api.core import make_geocube"
   ]
  },
  {
   "cell_type": "code",
   "execution_count": 3,
   "id": "94b6a6bc",
   "metadata": {},
   "outputs": [],
   "source": [
    "lcdb_file_dir = \"/home/dli84/Documents/PALM/create_static_jiawei/lris-lcdb-v50-land-cover-database-version-50-mainland-new-zealand-SHP/\"\n",
    "lcdb_file_name = \"lcdb-v50-land-cover-database-version-50-mainland-new-zeal.shp\""
   ]
  },
  {
   "cell_type": "code",
   "execution_count": 4,
   "id": "cda6eef1",
   "metadata": {},
   "outputs": [],
   "source": [
    "gdf = gpd.read_file(lcdb_file_dir + lcdb_file_name, crs=\"epsg:2193\")"
   ]
  },
  {
   "cell_type": "code",
   "execution_count": 5,
   "id": "583d18bb",
   "metadata": {},
   "outputs": [],
   "source": [
    "geo_grid = make_geocube(\n",
    "    vector_data=gdf,\n",
    "    measurements=[\"Class_2018\"],\n",
    "    resolution=(9, 9),\n",
    ")"
   ]
  },
  {
   "cell_type": "code",
   "execution_count": 8,
   "id": "d443fec0",
   "metadata": {},
   "outputs": [
    {
     "name": "stdout",
     "output_type": "stream",
     "text": [
      "CPU times: user 28.2 s, sys: 12.4 s, total: 40.6 s\n",
      "Wall time: 46.1 s\n"
     ]
    }
   ],
   "source": [
    "%%time\n",
    "resolution_list = [243]\n",
    "geo_grid_lc = geo_grid.rio.reproject(crs_local)\n",
    "for res in resolution_list:\n",
    "    geo_grid_tmp_lc = geo_grid_lc.rio.reproject(crs_local, res)\n",
    "    geo_grid_tmp_wgs = geo_grid_tmp_lc.rio.reproject(crs_wgs84)\n",
    "    geo_grid_tmp_lc.rio.to_raster(lcdb_file_dir + str(res) + \"m_lc.tif\")\n",
    "    geo_grid_tmp_wgs.rio.to_raster(lcdb_file_dir + str(res) + \"m_wgs.tif\")"
   ]
  },
  {
   "cell_type": "markdown",
   "id": "f8bf8155",
   "metadata": {},
   "source": [
    "### dem for all domains"
   ]
  },
  {
   "cell_type": "code",
   "execution_count": 20,
   "id": "032b933a",
   "metadata": {},
   "outputs": [],
   "source": [
    "file_dir = \"/home/UOCNT/jzh215/research/lake_ohau/dem_8m/\"\n",
    "file_name = \"merged.tif\""
   ]
  },
  {
   "cell_type": "code",
   "execution_count": 21,
   "id": "8407ce27",
   "metadata": {},
   "outputs": [],
   "source": [
    "ds_org = rxr.open_rasterio(file_dir + \"merged.tif\")"
   ]
  },
  {
   "cell_type": "code",
   "execution_count": 22,
   "id": "1b40afda",
   "metadata": {},
   "outputs": [],
   "source": [
    "ds_loc_216m = ds_org.rio.reproject(crs_local, resolution=216)"
   ]
  },
  {
   "cell_type": "code",
   "execution_count": 23,
   "id": "0fe17fe2",
   "metadata": {},
   "outputs": [],
   "source": [
    "ds_wgs_216m = ds_loc_216m.rio.reproject(crs_wgs84)"
   ]
  },
  {
   "cell_type": "code",
   "execution_count": 24,
   "id": "73681a67",
   "metadata": {},
   "outputs": [],
   "source": [
    "lat_min = ds_wgs_216m.y.min().values.item()\n",
    "lat_max = ds_wgs_216m.y.max().values.item()\n",
    "lon_min = ds_wgs_216m.x.min().values.item()\n",
    "lon_max = ds_wgs_216m.x.max().values.item()\n",
    "lat_mid = ds_wgs_216m.y.mean().values.item()\n",
    "lon_mid = ds_wgs_216m.x.mean().values.item()"
   ]
  },
  {
   "cell_type": "code",
   "execution_count": 49,
   "id": "e6d0308d",
   "metadata": {},
   "outputs": [],
   "source": [
    "map_test = geemap.Map(center=(lat_mid, lon_mid), zoom_start=10)"
   ]
  },
  {
   "cell_type": "code",
   "execution_count": 39,
   "id": "f59bc844",
   "metadata": {},
   "outputs": [],
   "source": [
    "collection = ee.ImageCollection(\"COPERNICUS/Landcover/100m/Proba-V-C3/Global\")"
   ]
  },
  {
   "cell_type": "code",
   "execution_count": 40,
   "id": "726785c6",
   "metadata": {},
   "outputs": [],
   "source": [
    "image = collection.filterDate(\"2019-01-01\", \"2019-12-31\").first()"
   ]
  },
  {
   "cell_type": "code",
   "execution_count": 41,
   "id": "161c79ad",
   "metadata": {},
   "outputs": [],
   "source": [
    "map_test.add_ee_layer(image)"
   ]
  },
  {
   "cell_type": "code",
   "execution_count": 42,
   "id": "d69e8fcc",
   "metadata": {},
   "outputs": [],
   "source": [
    "geom = ee.Geometry.Rectangle([lon_min, lat_min, lon_max, lat_max])\n",
    "feature = ee.Feature(geom, {})"
   ]
  },
  {
   "cell_type": "code",
   "execution_count": 43,
   "id": "a29477ff",
   "metadata": {},
   "outputs": [],
   "source": [
    "roi = feature.geometry()\n",
    "image_crop = image.clip(roi).unmask()"
   ]
  },
  {
   "cell_type": "code",
   "execution_count": 45,
   "id": "be507371",
   "metadata": {},
   "outputs": [
    {
     "name": "stdout",
     "output_type": "stream",
     "text": [
      "Generating URL ...\n",
      "Downloading data from https://earthengine.googleapis.com/v1alpha/projects/earthengine-legacy/thumbnails/968d75188c7ae5cece7029b1c609aed4-c6e51bfee0309f5939d52d1d425ca69d:getPixels\n",
      "Please wait ...\n",
      "Data downloaded to /home/UOCNT/jzh215/research/lake_ohau/dem_8m\n"
     ]
    }
   ],
   "source": [
    "geemap.ee_export_image(\n",
    "    image_crop,\n",
    "    filename=file_dir + \"land_info.tif\",\n",
    "    region=roi,\n",
    "    crs=\"EPSG:4326\",\n",
    "    file_per_band=True,\n",
    ")"
   ]
  },
  {
   "cell_type": "code",
   "execution_count": 3,
   "id": "35192982",
   "metadata": {},
   "outputs": [],
   "source": [
    "ds_landinfo_org = rxr.open_rasterio(\n",
    "    file_dir + \"land_info.water-permanent-coverfraction.tif\"\n",
    ")"
   ]
  },
  {
   "cell_type": "code",
   "execution_count": 14,
   "id": "f6015459",
   "metadata": {},
   "outputs": [],
   "source": [
    "ds_landinfo_org_216m = ds_landinfo_org.rio.reproject_match(ds_wgs_216m)"
   ]
  },
  {
   "cell_type": "code",
   "execution_count": 15,
   "id": "30e740ce",
   "metadata": {},
   "outputs": [],
   "source": [
    "ds_landinfo_org_216m.rio.to_raster(\n",
    "    file_dir + \"land_info_water-permanent-coverfraction_216m.tif\"\n",
    ")"
   ]
  },
  {
   "cell_type": "code",
   "execution_count": 12,
   "id": "469d34e0",
   "metadata": {
    "tags": []
   },
   "outputs": [],
   "source": [
    "map_test.add_raster(\n",
    "    file_dir + \"land_info.water-permanent-coverfraction.tif\",\n",
    "    colormap=\"terrain\",\n",
    "    layer_name=\"test_DEM3\",\n",
    ")"
   ]
  },
  {
   "cell_type": "code",
   "execution_count": 14,
   "id": "61741069",
   "metadata": {},
   "outputs": [],
   "source": [
    "map_test.add_raster(\n",
    "    file_dir + \"wgs_merged.tif\", colormap=\"terrain\", layer_name=\"test_DEM3\"\n",
    ")"
   ]
  },
  {
   "cell_type": "code",
   "execution_count": 50,
   "id": "7b8b5f33",
   "metadata": {},
   "outputs": [],
   "source": [
    "map_test.add_raster(\n",
    "    lcdb_file_dir + \"243m_wgs.tif\", colormap=\"terrain\", layer_name=\"dem_test\"\n",
    ")"
   ]
  },
  {
   "cell_type": "code",
   "execution_count": 54,
   "id": "07acc149",
   "metadata": {},
   "outputs": [],
   "source": [
    "map_test.add_raster(\n",
    "    \"/home/UOCNT/jzh215/research/rocket_lab/dem_8m/243m_wgs.tif\",\n",
    "    colormap=\"terrain\",\n",
    "    layer_name=\"dem_actual\",\n",
    ")"
   ]
  },
  {
   "cell_type": "code",
   "execution_count": 60,
   "id": "ff2e6492",
   "metadata": {},
   "outputs": [],
   "source": [
    "map_test.add_raster(\n",
    "    \"/home/UOCNT/jzh215/research/rocket_lab/lcdb5/243m_wgs.tif\",\n",
    "    colormap=\"terrain\",\n",
    "    layer_name=\"lcdb\",\n",
    ")"
   ]
  },
  {
   "cell_type": "code",
   "execution_count": 51,
   "id": "3220564a",
   "metadata": {},
   "outputs": [],
   "source": [
    "map_test.add_raster(\"test_matched_lc.tif\", colormap=\"terrain\", layer_name=\"test_mached\")"
   ]
  },
  {
   "cell_type": "code",
   "execution_count": null,
   "id": "70d832fa",
   "metadata": {},
   "outputs": [],
   "source": [
    "map_test"
   ]
  }
 ],
 "metadata": {
  "kernelspec": {
   "display_name": "Python 3",
   "language": "python",
   "name": "python3"
  },
  "language_info": {
   "codemirror_mode": {
    "name": "ipython",
    "version": 3
   },
   "file_extension": ".py",
   "mimetype": "text/x-python",
   "name": "python",
   "nbconvert_exporter": "python",
   "pygments_lexer": "ipython3",
   "version": "3.8.10"
  }
 },
 "nbformat": 4,
 "nbformat_minor": 5
}
