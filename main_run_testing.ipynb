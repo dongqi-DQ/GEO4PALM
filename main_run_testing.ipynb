{
 "cells": [
  {
   "cell_type": "markdown",
   "id": "d10b6d77-453f-4087-884d-4b751a56a68a",
   "metadata": {},
   "source": [
    "# To do list\n",
    "- downloading code - call function (provided by Jiawei)  \n",
    "- downloading code - OSM (Dongqi to figure out)  \n",
    "- pre-processing   \n",
    "- merge to create static driver  "
   ]
  },
  {
   "cell_type": "code",
   "execution_count": 2,
   "id": "944f3d83-d25f-45cc-9c87-e5eee8469f60",
   "metadata": {},
   "outputs": [],
   "source": [
    "import requests\n",
    "import getpass, pprint, time, os, cgi, json\n",
    "import geopandas as gpd\n",
    "import osmnx as ox\n",
    "import rasterio\n",
    "from geocube.api.core import make_geocube\n",
    "from datetime import datetime, timezone\n",
    "import pandas as pd\n",
    "from pyproj import Transformer, CRS\n",
    "from shapely.geometry import box, Point\n",
    "from pathlib import Path\n",
    "import os\n",
    "import pickle\n",
    "import numpy as np\n",
    "import pandas as pd\n",
    "from pyproj import Proj, transform\n",
    "import osmnx as ox\n",
    "import rasterio\n",
    "from geocube.api.core import make_geocube\n",
    "from util.get_osm import *\n",
    "from util.get_sst import download_sst\n",
    "from util.get_geo_nasa import *\n",
    "from util.loc_dom import domain_location, domain_nest, write_cfg\n",
    "from util.check_empty import check_empty\n",
    "from util.create_static import *\n",
    "from util.pre_process_tif import *\n",
    "from util.pre_process_tif import main as process_main\n",
    "import configparser\n",
    "import ast\n",
    "import sys\n",
    "from urllib.request import urlretrieve\n",
    "import warnings\n",
    "## supress warnings\n",
    "## switch to other actions if needed\n",
    "warnings.filterwarnings(\"ignore\")"
   ]
  },
  {
   "cell_type": "code",
   "execution_count": 2,
   "id": "ad8e462d-7753-4d63-a5dc-8ab6724a770a",
   "metadata": {},
   "outputs": [],
   "source": [
    "# https://appeears.earthdatacloud.nasa.gov/products"
   ]
  },
  {
   "cell_type": "markdown",
   "id": "9e0dec46-40fb-4f99-b2aa-da4f0207c778",
   "metadata": {},
   "source": [
    "## config"
   ]
  },
  {
   "cell_type": "code",
   "execution_count": 3,
   "id": "05b7abd7-7e90-49a2-9ae0-0eb15562783f",
   "metadata": {},
   "outputs": [],
   "source": [
    "#--------------------------------------------------------------------------------#\n",
    "#--------------------------------------------------------------------------------#\n",
    "# read namelist\n",
    "settings_cfg = configparser.ConfigParser(inline_comment_prefixes='#')\n",
    "config = configparser.RawConfigParser()\n",
    "prefix = \"prefix\"#sys.argv[1]\n",
    "namelist =  f\"./JOBS/{prefix}/INPUT/namelist.static-{prefix}\"\n",
    "config.read(namelist)\n",
    "## [case]\n",
    "case_name =  ast.literal_eval(config.get(\"case\", \"case_name\"))[0]\n",
    "origin_time = ast.literal_eval(config.get(\"case\", \"origin_time\"))[0]\n",
    "# local projection (unit: m)\n",
    "config_proj = ast.literal_eval(config.get(\"case\", \"config_proj\"))[0]\n",
    "# use WGS84 (EPSG:4326) for centlat/centlon\n",
    "default_proj = ast.literal_eval(config.get(\"case\", \"default_proj\"))[0] \n",
    "\n",
    "## [domain configuration]\n",
    "ndomain = ast.literal_eval(config.get(\"domain\", \"ndomain\"))[0]\n",
    "centlat = ast.literal_eval(config.get(\"domain\", \"centlat\"))\n",
    "centlon = ast.literal_eval(config.get(\"domain\", \"centlon\"))\n",
    "dx = ast.literal_eval(config.get(\"domain\", \"dx\"))\n",
    "dy = ast.literal_eval(config.get(\"domain\", \"dy\"))\n",
    "dz = ast.literal_eval(config.get(\"domain\", \"dz\"))\n",
    "nx = ast.literal_eval(config.get(\"domain\", \"nx\"))\n",
    "ny = ast.literal_eval(config.get(\"domain\", \"ny\"))\n",
    "nz = ast.literal_eval(config.get(\"domain\", \"nz\"))\n",
    "z_origin = ast.literal_eval(config.get(\"domain\", \"z_origin\"))\n",
    "ll_x = ast.literal_eval(config.get(\"domain\", \"ll_x\"))\n",
    "ll_y = ast.literal_eval(config.get(\"domain\", \"ll_y\"))\n",
    "\n",
    "## [required tif files]\n",
    "sst = ast.literal_eval(config.get(\"geotif\", \"sst\"))\n",
    "dem = ast.literal_eval(config.get(\"geotif\", \"dem\"))\n",
    "lu = ast.literal_eval(config.get(\"geotif\", \"lu\"))\n",
    "\n",
    "dem_start_date = ast.literal_eval(config.get(\"geotif\", \"dem_start_date\"))[0]\n",
    "dem_end_date = ast.literal_eval(config.get(\"geotif\", \"dem_end_date\"))[0]\n",
    "\n",
    "lu_start_date = ast.literal_eval(config.get(\"geotif\", \"lu_start_date\"))[0]\n",
    "lu_end_date = ast.literal_eval(config.get(\"geotif\", \"lu_end_date\"))[0]\n",
    "\n",
    "\n",
    "## [tif files for urban canopy]\n",
    "bldh = ast.literal_eval(config.get(\"urban\", \"bldh\"))\n",
    "bldid = ast.literal_eval(config.get(\"urban\", \"bldid\"))\n",
    "pavement = ast.literal_eval(config.get(\"urban\", \"pavement\"))\n",
    "street = ast.literal_eval(config.get(\"urban\", \"street\"))\n",
    "\n",
    "## [tif files for plant canopy]\n",
    "sfch = ast.literal_eval(config.get(\"plant\", \"sfch\"))\n",
    "\n",
    "\n",
    "\n",
    "# specify the directory of tif files\n",
    "# users can provide their own tif files\n",
    "# otherwise will download from NASA or OSM\n",
    "static_tif_path = f'./JOBS/{case_name}/INPUT/'\n",
    "output_path = static_tif_path.replace(\"INPUT\",\"OUTPUT\")\n",
    "tmp_path = static_tif_path.replace(\"INPUT\",\"TMP\")\n",
    "## create folders for temporary tif files and final netcdf outputs\n",
    "if not os.path.exists(tmp_path):\n",
    "    print(\"Create tmp folder\")\n",
    "    os.makedirs(tmp_path)\n",
    "if not os.path.exists(output_path):\n",
    "    print(\"Create output folder\")\n",
    "    os.makedirs(output_path)\n",
    "## these dictionanries only pass keys \n",
    "tif_geotif_dict = dict(config.items('geotif'))\n",
    "tif_urban_dict = dict(config.items('urban'))\n",
    "tif_plant_dict = dict(config.items('plant'))\n",
    "\n"
   ]
  },
  {
   "cell_type": "code",
   "execution_count": 4,
   "id": "8325eda9-54f8-4ba5-8c9e-3e6301e3832d",
   "metadata": {},
   "outputs": [
    {
     "name": "stdout",
     "output_type": "stream",
     "text": [
      "Retrieving SST data from OPeNDAP\n",
      "SST file exist\n"
     ]
    },
    {
     "name": "stdin",
     "output_type": "stream",
     "text": [
      "Enter NASA Earthdata Login Username: \n",
      "(Register here if you haven't, https://www.earthdata.nasa.gov/eosdis/science-system-description/eosdis-components/earthdata-login)\n",
      "Username: dli84\n",
      "Enter NASA Earthdata Login Password:  ········\n"
     ]
    },
    {
     "name": "stdout",
     "output_type": "stream",
     "text": [
      "User credental successfully verified!\n",
      "AρρEEARS currently supports 157 products.\n",
      "Checking DEM dataset (SRTMGL1_NC.003)\n",
      "SRTMGL1_NC.003 in the datasets\n",
      "Checking Land_Use dataset (MCD12Q1.006)\n",
      "MCD12Q1.006 in the datasets\n",
      "Dataset check successful.\n",
      "Checking layer information for the DEM dataset (SRTMGL1_NC.003)\n",
      "Checking layer information for the Land_Use dataset (MCD12Q1.006)\n"
     ]
    },
    {
     "name": "stdin",
     "output_type": "stream",
     "text": [
      "There are multipe layers in the dataset of Land_Use (MCD12Q1.006).Please choose one of the layers below:\n",
      "['LC_Prop1', 'LC_Prop1_Assessment', 'LC_Prop2', 'LC_Prop2_Assessment', 'LC_Prop3', 'LC_Prop3_Assessment', 'LC_Type1', 'LC_Type2', 'LC_Type3', 'LC_Type4', 'LC_Type5', 'LW', 'QC']\n",
      " 'LC_Type1'\n"
     ]
    },
    {
     "name": "stdout",
     "output_type": "stream",
     "text": [
      "Projection check done. Start submitting jobs.\n"
     ]
    },
    {
     "name": "stdin",
     "output_type": "stream",
     "text": [
      "Files already exists in ./JOBS/prefix/INPUT/prefix_DEM_SRTMGL1_NC.003. Enter 1 to continue task downloading or 0 to skip this task. 0\n",
      "Files already exists in ./JOBS/prefix/INPUT/prefix_Land_Use_MCD12Q1.006. Enter 1 to continue task downloading or 0 to skip this task. 0\n"
     ]
    },
    {
     "name": "stdout",
     "output_type": "stream",
     "text": [
      "Retrieving OSM building data...\n"
     ]
    },
    {
     "ename": "SystemExit",
     "evalue": "No OSM data retrievied. Please check your configuration.",
     "output_type": "error",
     "traceback": [
      "An exception has occurred, use %tb to see the full traceback.\n",
      "\u001b[0;31mSystemExit\u001b[0m\u001b[0;31m:\u001b[0m No OSM data retrievied. Please check your configuration.\n"
     ]
    }
   ],
   "source": [
    "\n",
    "for i in range(0,ndomain):\n",
    "    if i == 0:\n",
    "        case_name_d01 = case_name+\"_N01\"\n",
    "        dom_cfg_d01 = {'origin_time': origin_time,\n",
    "                    'centlat': centlat[i],  \n",
    "                    'centlon': centlon[i],\n",
    "                    'dx': dx[i],\n",
    "                    'dy': dy[i],\n",
    "                    'dz': dz[i],\n",
    "                    'nx': nx[i],\n",
    "                    'ny': ny[i],\n",
    "                    'nz': nz[i],\n",
    "                    'z_origin': z_origin[i],\n",
    "                    }\n",
    "        \n",
    "        tif_dict_d01 = {}\n",
    "        for keys in tif_geotif_dict.keys():\n",
    "            tif_dict_d01[keys] = ast.literal_eval(config.get(\"geotif\", keys))[i]\n",
    "        for keys in tif_urban_dict.keys():\n",
    "            tif_dict_d01[keys] = ast.literal_eval(config.get(\"urban\", keys))[i]\n",
    "        for keys in tif_plant_dict.keys():\n",
    "            tif_dict_d01[keys] = ast.literal_eval(config.get(\"plant\", keys))[i]\n",
    "        # configure domain location information\n",
    "        dom_cfg_d01 = domain_location(default_proj, config_proj,  dom_cfg_d01)\n",
    "        # generate static driver \n",
    "#         dom_cfg_d01 = generate_palm_static(case_name_d01, config_proj, tif_proj, dom_cfg_d01, tif_dict_d01)\n",
    "        \n",
    "        #--------------------------------------------------------------------------------#\n",
    "        ## first check if we need to download data from online sources\n",
    "        ## SST data\n",
    "        if tif_dict_d01[\"sst\"]==\"online\":\n",
    "            download_sst(case_name, origin_time, static_tif_path)\n",
    "        ## DEM and land use (currently only for NASA online data sets)\n",
    "        ## prepare dictionaries\n",
    "        geodata_name_dict = {}\n",
    "        output_format_dict  = {}\n",
    "        start_date_dict = {}\n",
    "        end_date_dict = {}\n",
    "        if tif_dict_d01[\"dem\"]==\"online\":\n",
    "            geodata_name_dict[\"DEM\"] = [\"SRTMGL1_NC.003\",]\n",
    "            output_format_dict[\"DEM\"] = \"geotiff\"\n",
    "            # NASA DEM data only available for these dates\n",
    "            start_date_dict[\"DEM\"] = dem_start_date\n",
    "            end_date_dict[\"DEM\"] = dem_end_date\n",
    "        if tif_dict_d01[\"lu\"]==\"online\":\n",
    "            # https://lpdaac.usgs.gov/documents/101/MCD12_User_Guide_V6.pdf\n",
    "            geodata_name_dict[\"Land_Use\"] = [\"MCD12Q1.006\",]\n",
    "            output_format_dict[\"Land_Use\"] = \"geotiff\"\n",
    "            # User to choose the start/end date\n",
    "            start_date_dict[\"Land_Use\"] = lu_start_date\n",
    "            end_date_dict[\"Land_Use\"] = lu_end_date\n",
    "        ## download data for NASA AρρEEARS API only\n",
    "        if tif_dict_d01[\"dem\"]==\"online\" or tif_dict_d01[\"lu\"]==\"online\":\n",
    "            area_radius = np.max([dx[i]*nx[i], dy[i]*ny[0]])/2 # units=metre\n",
    "            default_buffer_ratio = 1.2 # used to multiply area_radius avoid areas becoming smaller than required after reproject\n",
    "            api = 'https://appeears.earthdatacloud.nasa.gov/api/'  # Set the AρρEEARS API to a variable\n",
    "            task_type = 'area'   # this is the only type used in this script\n",
    "            \n",
    "            download_nasa_main(api, geodata_name_dict, centlon[i], centlat[i], area_radius, default_proj, \\\n",
    "                       default_buffer_ratio, start_date_dict,end_date_dict, output_format_dict,case_name,static_tif_path)\n",
    "        if tif_dict_d01[\"bldh\"]==\"online\" or tif_dict_d01[\"bldid\"]==\"online\":\n",
    "            get_osm_building(centlat[i], centlon[i], area_radius, static_tif_path, case_name, i)\n",
    "        if tif_dict_d01[\"pavement\"]==\"online\":\n",
    "            get_osm_street(centlat[i], centlon[i], area_radius, static_tif_path, case_name, i)\n",
    "    ## for child domains \n",
    "    else:    \n",
    "        #--------------------------------------------------------------------------------#\n",
    "        # downloading data for nested domains\n",
    "        #--------------------------------------------------------------------------------#\n",
    "        dom_cfg_nest = {'origin_time': origin_time,\n",
    "                    'dx': dx[i],\n",
    "                    'dy': dy[i],\n",
    "                    'dz': dz[i],\n",
    "                    'nx': nx[i],\n",
    "                    'ny': ny[i],\n",
    "                    'nz': nz[i],\n",
    "                    'z_origin': z_origin[i],\n",
    "                    }\n",
    "        ll_x_nest, ll_y_nest = ll_x[i], ll_y[i]\n",
    "\n",
    "        dom_cfg_nest = domain_nest(config_proj, dom_cfg_d01['west'], dom_cfg_d01['south'], ll_x_nest, ll_y_nest,dom_cfg_nest)\n",
    "\n",
    "        tif_dict_nest = {}\n",
    "        for keys in tif_urban_dict.keys():\n",
    "            tif_dict_nest[keys] = ast.literal_eval(config.get(\"urban\", keys))[i]\n",
    "        for keys in tif_plant_dict.keys():\n",
    "            tif_dict_nest[keys] = ast.literal_eval(config.get(\"plant\", keys))[i]\n",
    "        area_radius_nest = np.max([dx[i]*nx[i], dy[i]*ny[i]])/2 # units=metre\n",
    "\n",
    "        if tif_dict_nest[\"bldh\"]==\"online\" or tif_dict_nest[\"bldid\"]==\"online\":\n",
    "                get_osm_building(dom_cfg_nest[\"centlat\"], dom_cfg_nest[\"centlon\"], area_radius_nest, static_tif_path, case_name, i)\n",
    "        if tif_dict_nest[\"pavement\"]==\"online\":\n",
    "                get_osm_street(dom_cfg_nest[\"centlat\"], dom_cfg_nest[\"centlon\"], area_radius_nest, static_tif_path, case_name, i)\n",
    "        # save domain configuration for later - creating static drivers\n",
    "        with open(f'{tmp_path}{case_name}_cfg_N0{i+1}.pickle', 'wb') as dicts:\n",
    "            pickle.dump(dom_cfg_nest, dicts, protocol=pickle.HIGHEST_PROTOCOL)"
   ]
  },
  {
   "cell_type": "code",
   "execution_count": 21,
   "id": "2ee33262-6b1e-4f2f-bec2-4dd568c1674b",
   "metadata": {},
   "outputs": [],
   "source": [
    "from pyproj import Transformer"
   ]
  },
  {
   "cell_type": "code",
   "execution_count": 28,
   "id": "f71eeac4-4dfa-4002-9c22-f1f24cfef064",
   "metadata": {},
   "outputs": [],
   "source": [
    "dom_cfg_d01 = domain_location(default_proj, config_proj,  dom_cfg_d01)\n"
   ]
  },
  {
   "cell_type": "code",
   "execution_count": 32,
   "id": "f4581d70-0916-4a85-a811-74cd2e665699",
   "metadata": {},
   "outputs": [
    {
     "data": {
      "text/plain": [
       "{'origin_time': '2021-01-01 00:00:00 +00',\n",
       " 'dx': 81.0,\n",
       " 'dy': 81.0,\n",
       " 'dz': 18.0,\n",
       " 'nx': 216,\n",
       " 'ny': 216,\n",
       " 'nz': 36,\n",
       " 'z_origin': 0.0,\n",
       " 'centlat': -43.5144493944088,\n",
       " 'centlon': 172.5734219756331,\n",
       " 'west': 1556814.2944948424,\n",
       " 'east': 1574229.2944948424,\n",
       " 'south': 5173258.021971742,\n",
       " 'north': 5190673.021971742,\n",
       " 'lon_w': 172.46500036350716,\n",
       " 'lon_e': 172.68156466637436,\n",
       " 'lat_s': -43.59239751932636,\n",
       " 'lat_n': -43.43639649804719}"
      ]
     },
     "execution_count": 32,
     "metadata": {},
     "output_type": "execute_result"
    }
   ],
   "source": [
    "domain_nest(config_proj, dom_cfg_d01['west'], dom_cfg_d01['south'], ll_x_nest, ll_y_nest,dom_cfg_nest)"
   ]
  },
  {
   "cell_type": "code",
   "execution_count": 5,
   "id": "84b8acd0-9d37-4c71-b10a-cb26a6e851f2",
   "metadata": {},
   "outputs": [
    {
     "name": "stdout",
     "output_type": "stream",
     "text": [
      "DEM tif file for Domain N01 exists\n",
      "LU tif file for Domain N01 exists\n",
      "Building tif file for Domain N01 exists\n",
      "pavement tif file for Domain N01 exists\n",
      "street tif file for Domain N01 exists\n",
      "DEM tif file for Domain N02 exists\n",
      "LU tif file for Domain N02 exists\n",
      "Building tif file for Domain N02 exists\n",
      "pavement tif file for Domain N02 exists\n",
      "street tif file for Domain N02 exists\n"
     ]
    }
   ],
   "source": [
    "#--------------------------------------------------------------------------------#\n",
    "#--------------------------------------------------------------------------------#\n",
    "# preprocess tif files \n",
    "process_main(prefix)"
   ]
  },
  {
   "cell_type": "code",
   "execution_count": 8,
   "id": "cff28cf6-d38d-4964-a285-238d5bc7ef20",
   "metadata": {
    "collapsed": true,
    "jupyter": {
     "outputs_hidden": true
    },
    "tags": []
   },
   "outputs": [
    {
     "name": "stdout",
     "output_type": "stream",
     "text": [
      "@@@@dem (221, 221)\n",
      "south -24254.315127795307 west -24095.573671532988\n",
      "lon_min 1548771.2290874715 lon_max 1602231.2290874715\n",
      "lat_min 5154123.771045684 lat_max 5207583.771045684\n",
      "@@@@zt (200, 200)\n",
      "Number of grid points x, y = 200, 200\n",
      "Reading land use data\n",
      "south -24254.315127795307 west -24095.573671532988\n",
      "lon_min 1548771.2290874715 lon_max 1602231.2290874715\n",
      "lat_min 5154123.771045684 lat_max 5207583.771045684\n",
      "Reading building ID\n",
      "south -24254.315127795307 west -24095.573671532988\n",
      "lon_min 1548771.2290874715 lon_max 1602231.2290874715\n",
      "lat_min 5154123.771045684 lat_max 5207583.771045684\n",
      "Reading building height\n",
      "south -24254.315127795307 west -24095.573671532988\n",
      "lon_min 1548771.2290874715 lon_max 1602231.2290874715\n",
      "lat_min 5154123.771045684 lat_max 5207583.771045684\n",
      "Reading surface height for vegetation height\n",
      "Reading pavement\n",
      "south -24254.315127795307 west -24095.573671532988\n",
      "lon_min 1548771.2290874715 lon_max 1602231.2290874715\n",
      "lat_min 5154123.771045684 lat_max 5207583.771045684\n",
      "Reading street\n",
      "south -24254.315127795307 west -24095.573671532988\n",
      "lon_min 1548771.2290874715 lon_max 1602231.2290874715\n",
      "lat_min 5154123.771045684 lat_max 5207583.771045684\n",
      "Processing water temperature\n",
      "Generating static driver for domain N01\n",
      "Process finished! Static driver is created with following specs in centered grids: \n",
      " [nx, ny, nz] = [199, 199, 200] \n",
      " [dx, dy, dz] = [243.0, 243.0, 54.0]\n",
      "Checking topo dimensions: (200, 200)\n",
      "@@@@dem (537, 537)\n",
      "south -22254.315127795307 west -22095.573671532988\n",
      "lon_min 1548699.7290874715 lon_max 1602299.7290874715\n",
      "lat_min 5154055.271045684 lat_max 5207655.271045684\n",
      "@@@@zt (100, 100)\n",
      "Number of grid points x, y = 100, 100\n",
      "Reading land use data\n",
      "south -22254.315127795307 west -22095.573671532988\n",
      "lon_min 1548699.7290874715 lon_max 1602299.7290874715\n",
      "lat_min 5154055.271045684 lat_max 5207655.271045684\n",
      "Reading building ID\n",
      "south -22254.315127795307 west -22095.573671532988\n",
      "lon_min 1548771.2290874715 lon_max 1602231.2290874715\n",
      "lat_min 5154123.771045684 lat_max 5207583.771045684\n",
      "Reading building height\n",
      "south -22254.315127795307 west -22095.573671532988\n",
      "lon_min 1548771.2290874715 lon_max 1602231.2290874715\n",
      "lat_min 5154123.771045684 lat_max 5207583.771045684\n",
      "Reading surface height for vegetation height\n",
      "Reading pavement\n",
      "south -22254.315127795307 west -22095.573671532988\n",
      "lon_min 1548699.7290874715 lon_max 1602299.7290874715\n",
      "lat_min 5154055.271045684 lat_max 5207655.271045684\n",
      "Reading street\n",
      "south -22254.315127795307 west -22095.573671532988\n",
      "lon_min 1548699.7290874715 lon_max 1602299.7290874715\n",
      "lat_min 5154055.271045684 lat_max 5207655.271045684\n",
      "Processing water temperature\n",
      "Generating static driver for domain N02\n",
      "Process finished! Static driver is created with following specs in centered grids: \n",
      " [nx, ny, nz] = [99, 99, 100] \n",
      " [dx, dy, dz] = [100.0, 100.0, 2.0]\n",
      "Checking topo dimensions: (100, 100)\n"
     ]
    }
   ],
   "source": [
    "#--------------------------------------------------------------------------------#\n",
    "#--------------------------------------------------------------------------------#\n",
    "# create static driver \n",
    "for i in range(0,ndomain):\n",
    "    if i==0:\n",
    "        dom_cfg_d01 = generate_palm_static(case_name,tmp_path, i, config_proj, dom_cfg_d01)\n",
    "    else:\n",
    "        with open(f'{tmp_path}{case_name}_cfg_N0{i+1}.pickle', 'rb') as dicts:\n",
    "             dom_cfg_nest = pickle.load(dicts)\n",
    "        dom_cfg_nest = generate_palm_static(case_name,tmp_path, i, config_proj, dom_cfg_nest)"
   ]
  },
  {
   "cell_type": "markdown",
   "id": "2e53c2e6-71d3-409b-bcdd-30d2327205b5",
   "metadata": {},
   "source": [
    "# debugging"
   ]
  },
  {
   "cell_type": "code",
   "execution_count": null,
   "id": "c4e3ef35-e672-4da0-adb8-c4746a55105c",
   "metadata": {},
   "outputs": [],
   "source": []
  }
 ],
 "metadata": {
  "kernelspec": {
   "display_name": "Python (baseline)",
   "language": "python",
   "name": "baseline"
  },
  "language_info": {
   "codemirror_mode": {
    "name": "ipython",
    "version": 3
   },
   "file_extension": ".py",
   "mimetype": "text/x-python",
   "name": "python",
   "nbconvert_exporter": "python",
   "pygments_lexer": "ipython3",
   "version": "3.8.12"
  }
 },
 "nbformat": 4,
 "nbformat_minor": 5
}
